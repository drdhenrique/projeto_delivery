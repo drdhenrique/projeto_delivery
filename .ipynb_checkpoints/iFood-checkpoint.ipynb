{
 "cells": [
  {
   "cell_type": "markdown",
   "id": "dce1f991-a1aa-4486-91c6-f2fa5460db58",
   "metadata": {},
   "source": [
    "# Análise Exploratória"
   ]
  },
  {
   "cell_type": "markdown",
   "id": "3e075cde-2e2f-4d12-91a6-f2edf946f731",
   "metadata": {},
   "source": [
    "### Importação dos pacotes"
   ]
  },
  {
   "cell_type": "code",
   "execution_count": 3,
   "id": "cbd1cafd-6bf6-41ab-a16f-2fa0812e222a",
   "metadata": {},
   "outputs": [],
   "source": [
    "import pandas as pd\n",
    "from pandasql import sqldf"
   ]
  },
  {
   "cell_type": "markdown",
   "id": "a23de492-fa84-4d54-8549-cfeb37987576",
   "metadata": {},
   "source": [
    "### Importação dos dados e manipulações iniciais"
   ]
  },
  {
   "cell_type": "code",
   "execution_count": 23,
   "id": "da92f380-152f-465e-af72-43ebf9d87121",
   "metadata": {},
   "outputs": [
    {
     "data": {
      "text/plain": [
       "(368999, 29)"
      ]
     },
     "execution_count": 23,
     "metadata": {},
     "output_type": "execute_result"
    }
   ],
   "source": [
    "df_lojas = pd.read_csv(\"stores.csv\", encoding = 'ISO-8859-1')\n",
    "df_canais = pd.read_csv(\"channels.csv\")\n",
    "df_entregas = pd.read_csv(\"deliveries.csv\")\n",
    "df_entregadores = pd.read_csv(\"drivers.csv\")\n",
    "df_hubs = pd.read_csv(\"hubs.csv\", encoding = 'ISO-8859-1')\n",
    "df_pagamentos = pd.read_csv(\"payments.csv\")\n",
    "df_pedidos = pd.read_csv(\"orders.csv\")"
   ]
  },
  {
   "cell_type": "code",
   "execution_count": 31,
   "id": "ed798f67-5ed1-4254-a91b-8368d7a85f5c",
   "metadata": {},
   "outputs": [
    {
     "name": "stdout",
     "output_type": "stream",
     "text": [
      "(368999, 29)\n",
      "(400834, 6)\n",
      "(32, 6)\n",
      "(951, 7)\n",
      "(4824, 3)\n",
      "(378843, 5)\n",
      "(40, 3)\n"
     ]
    }
   ],
   "source": [
    "print(df_pedidos.shape)\n",
    "print(df_pagamentos.shape)\n",
    "print(df_hubs.shape)\n",
    "print(df_lojas.shape)\n",
    "print(df_entregadores.shape)\n",
    "print(df_entregas.shape)\n",
    "print(df_canais.shape)"
   ]
  },
  {
   "cell_type": "code",
   "execution_count": 42,
   "id": "73e64f6d-780b-46d4-b8fc-469eb26b75b1",
   "metadata": {},
   "outputs": [
    {
     "data": {
      "text/plain": [
       "Index(['order_id', 'store_id', 'channel_id', 'payment_order_id',\n",
       "       'delivery_order_id', 'order_status', 'order_amount',\n",
       "       'order_delivery_fee', 'order_delivery_cost', 'order_created_hour',\n",
       "       'order_created_minute', 'order_created_day', 'order_created_month',\n",
       "       'order_created_year', 'order_moment_created', 'order_moment_accepted',\n",
       "       'order_moment_ready', 'order_moment_collected',\n",
       "       'order_moment_in_expedition', 'order_moment_delivering',\n",
       "       'order_moment_delivered', 'order_moment_finished',\n",
       "       'order_metric_collected_time', 'order_metric_paused_time',\n",
       "       'order_metric_production_time', 'order_metric_walking_time',\n",
       "       'order_metric_expediton_speed_time', 'order_metric_transit_time',\n",
       "       'order_metric_cycle_time'],\n",
       "      dtype='object')"
      ]
     },
     "execution_count": 42,
     "metadata": {},
     "output_type": "execute_result"
    }
   ],
   "source": [
    "df_pedidos.columns"
   ]
  },
  {
   "cell_type": "markdown",
   "id": "564bf8cc-89e5-41e2-82e8-fdf34999c27f",
   "metadata": {},
   "source": [
    "### Respondendo a algumas perguntas de negócios"
   ]
  },
  {
   "cell_type": "markdown",
   "id": "4c7df5eb-9d23-424a-b77f-b03e149550d6",
   "metadata": {},
   "source": [
    "Qual as três lojas que teveram os maiores valores totais de vendas no último mês?\n",
    "\n",
    "Execute um GROUP BY pela coluna store_id, calcule a soma do valor total dos pedidos (order_amount) e ordene em ordem decrescente, limitando a 1."
   ]
  },
  {
   "cell_type": "code",
   "execution_count": 62,
   "id": "703d0f67-2605-410e-ad41-d57fcde1a138",
   "metadata": {},
   "outputs": [
    {
     "data": {
      "text/html": [
       "<div>\n",
       "<style scoped>\n",
       "    .dataframe tbody tr th:only-of-type {\n",
       "        vertical-align: middle;\n",
       "    }\n",
       "\n",
       "    .dataframe tbody tr th {\n",
       "        vertical-align: top;\n",
       "    }\n",
       "\n",
       "    .dataframe thead th {\n",
       "        text-align: right;\n",
       "    }\n",
       "</style>\n",
       "<table border=\"1\" class=\"dataframe\">\n",
       "  <thead>\n",
       "    <tr style=\"text-align: right;\">\n",
       "      <th></th>\n",
       "      <th>order_id</th>\n",
       "      <th>store_id</th>\n",
       "      <th>channel_id</th>\n",
       "      <th>payment_order_id</th>\n",
       "      <th>delivery_order_id</th>\n",
       "      <th>order_status</th>\n",
       "      <th>order_amount</th>\n",
       "      <th>order_delivery_fee</th>\n",
       "      <th>order_delivery_cost</th>\n",
       "      <th>order_created_hour</th>\n",
       "      <th>...</th>\n",
       "      <th>order_moment_delivering</th>\n",
       "      <th>order_moment_delivered</th>\n",
       "      <th>order_moment_finished</th>\n",
       "      <th>order_metric_collected_time</th>\n",
       "      <th>order_metric_paused_time</th>\n",
       "      <th>order_metric_production_time</th>\n",
       "      <th>order_metric_walking_time</th>\n",
       "      <th>order_metric_expediton_speed_time</th>\n",
       "      <th>order_metric_transit_time</th>\n",
       "      <th>order_metric_cycle_time</th>\n",
       "    </tr>\n",
       "  </thead>\n",
       "  <tbody>\n",
       "    <tr>\n",
       "      <th>0</th>\n",
       "      <td>68405119</td>\n",
       "      <td>3512</td>\n",
       "      <td>5</td>\n",
       "      <td>68405119</td>\n",
       "      <td>68405119</td>\n",
       "      <td>CANCELED</td>\n",
       "      <td>62.7</td>\n",
       "      <td>0.0</td>\n",
       "      <td>NaN</td>\n",
       "      <td>0</td>\n",
       "      <td>...</td>\n",
       "      <td>NaN</td>\n",
       "      <td>NaN</td>\n",
       "      <td>NaN</td>\n",
       "      <td>NaN</td>\n",
       "      <td>NaN</td>\n",
       "      <td>NaN</td>\n",
       "      <td>NaN</td>\n",
       "      <td>NaN</td>\n",
       "      <td>NaN</td>\n",
       "      <td>NaN</td>\n",
       "    </tr>\n",
       "  </tbody>\n",
       "</table>\n",
       "<p>1 rows × 29 columns</p>\n",
       "</div>"
      ],
      "text/plain": [
       "   order_id  store_id  channel_id  payment_order_id  delivery_order_id  \\\n",
       "0  68405119      3512           5          68405119           68405119   \n",
       "\n",
       "  order_status  order_amount  order_delivery_fee  order_delivery_cost  \\\n",
       "0     CANCELED          62.7                 0.0                  NaN   \n",
       "\n",
       "   order_created_hour  ...  order_moment_delivering  order_moment_delivered  \\\n",
       "0                   0  ...                      NaN                     NaN   \n",
       "\n",
       "   order_moment_finished  order_metric_collected_time  \\\n",
       "0                    NaN                          NaN   \n",
       "\n",
       "  order_metric_paused_time order_metric_production_time  \\\n",
       "0                      NaN                          NaN   \n",
       "\n",
       "  order_metric_walking_time order_metric_expediton_speed_time  \\\n",
       "0                       NaN                               NaN   \n",
       "\n",
       "  order_metric_transit_time order_metric_cycle_time  \n",
       "0                       NaN                     NaN  \n",
       "\n",
       "[1 rows x 29 columns]"
      ]
     },
     "execution_count": 62,
     "metadata": {},
     "output_type": "execute_result"
    }
   ],
   "source": [
    "df_pedidos.head(1)"
   ]
  },
  {
   "cell_type": "code",
   "execution_count": 71,
   "id": "3b0c54c6-fb0b-4f9d-a062-835058063afd",
   "metadata": {},
   "outputs": [],
   "source": [
    "query = \"\"\"\n",
    "SELECT\n",
    "    store_id,\n",
    "    SUM(order_amount) AS Valor_Total\n",
    "FROM \n",
    "    df_pedidos\n",
    "GROUP BY\n",
    "    store_id\n",
    "ORDER BY \n",
    "    Valor_Total DESC\n",
    "LIMIT 5\n",
    "\"\"\"\n",
    "\n",
    "resultado = sqldf(query)\n"
   ]
  },
  {
   "cell_type": "code",
   "execution_count": 72,
   "id": "21a69233-910b-4e08-881c-9458f1958b54",
   "metadata": {},
   "outputs": [
    {
     "data": {
      "text/html": [
       "<div>\n",
       "<style scoped>\n",
       "    .dataframe tbody tr th:only-of-type {\n",
       "        vertical-align: middle;\n",
       "    }\n",
       "\n",
       "    .dataframe tbody tr th {\n",
       "        vertical-align: top;\n",
       "    }\n",
       "\n",
       "    .dataframe thead th {\n",
       "        text-align: right;\n",
       "    }\n",
       "</style>\n",
       "<table border=\"1\" class=\"dataframe\">\n",
       "  <thead>\n",
       "    <tr style=\"text-align: right;\">\n",
       "      <th></th>\n",
       "      <th>store_id</th>\n",
       "      <th>Valor_Total</th>\n",
       "    </tr>\n",
       "  </thead>\n",
       "  <tbody>\n",
       "    <tr>\n",
       "      <th>0</th>\n",
       "      <td>603</td>\n",
       "      <td>2050977.82</td>\n",
       "    </tr>\n",
       "    <tr>\n",
       "      <th>1</th>\n",
       "      <td>676</td>\n",
       "      <td>1643112.07</td>\n",
       "    </tr>\n",
       "    <tr>\n",
       "      <th>2</th>\n",
       "      <td>707</td>\n",
       "      <td>1263650.39</td>\n",
       "    </tr>\n",
       "    <tr>\n",
       "      <th>3</th>\n",
       "      <td>658</td>\n",
       "      <td>1042748.11</td>\n",
       "    </tr>\n",
       "    <tr>\n",
       "      <th>4</th>\n",
       "      <td>274</td>\n",
       "      <td>1040397.52</td>\n",
       "    </tr>\n",
       "  </tbody>\n",
       "</table>\n",
       "</div>"
      ],
      "text/plain": [
       "   store_id  Valor_Total\n",
       "0       603   2050977.82\n",
       "1       676   1643112.07\n",
       "2       707   1263650.39\n",
       "3       658   1042748.11\n",
       "4       274   1040397.52"
      ]
     },
     "execution_count": 72,
     "metadata": {},
     "output_type": "execute_result"
    }
   ],
   "source": [
    "resultado # Os resultados parecem razoáveis, de vendas totais na casa dos milhões. Porém vamos mais a fundo"
   ]
  },
  {
   "cell_type": "code",
   "execution_count": 73,
   "id": "4f977811-c60f-4bae-a7ea-74d22d9d31cc",
   "metadata": {},
   "outputs": [
    {
     "data": {
      "text/html": [
       "<div>\n",
       "<style scoped>\n",
       "    .dataframe tbody tr th:only-of-type {\n",
       "        vertical-align: middle;\n",
       "    }\n",
       "\n",
       "    .dataframe tbody tr th {\n",
       "        vertical-align: top;\n",
       "    }\n",
       "\n",
       "    .dataframe thead th {\n",
       "        text-align: right;\n",
       "    }\n",
       "</style>\n",
       "<table border=\"1\" class=\"dataframe\">\n",
       "  <thead>\n",
       "    <tr style=\"text-align: right;\">\n",
       "      <th></th>\n",
       "      <th>store_id</th>\n",
       "      <th>Valor_Total</th>\n",
       "      <th>order_status</th>\n",
       "    </tr>\n",
       "  </thead>\n",
       "  <tbody>\n",
       "    <tr>\n",
       "      <th>0</th>\n",
       "      <td>603</td>\n",
       "      <td>1788306.11</td>\n",
       "      <td>CANCELED</td>\n",
       "    </tr>\n",
       "    <tr>\n",
       "      <th>1</th>\n",
       "      <td>1300</td>\n",
       "      <td>100000.11</td>\n",
       "      <td>FINISHED</td>\n",
       "    </tr>\n",
       "    <tr>\n",
       "      <th>2</th>\n",
       "      <td>923</td>\n",
       "      <td>25000.00</td>\n",
       "      <td>FINISHED</td>\n",
       "    </tr>\n",
       "    <tr>\n",
       "      <th>3</th>\n",
       "      <td>658</td>\n",
       "      <td>19320.00</td>\n",
       "      <td>CANCELED</td>\n",
       "    </tr>\n",
       "    <tr>\n",
       "      <th>4</th>\n",
       "      <td>921</td>\n",
       "      <td>17609.00</td>\n",
       "      <td>CANCELED</td>\n",
       "    </tr>\n",
       "  </tbody>\n",
       "</table>\n",
       "</div>"
      ],
      "text/plain": [
       "   store_id  Valor_Total order_status\n",
       "0       603   1788306.11     CANCELED\n",
       "1      1300    100000.11     FINISHED\n",
       "2       923     25000.00     FINISHED\n",
       "3       658     19320.00     CANCELED\n",
       "4       921     17609.00     CANCELED"
      ]
     },
     "execution_count": 73,
     "metadata": {},
     "output_type": "execute_result"
    }
   ],
   "source": [
    "query = \"\"\"\n",
    "SELECT\n",
    "    store_id,\n",
    "    MAX(order_amount) AS Valor_Total,\n",
    "    order_status\n",
    "FROM \n",
    "    df_pedidos\n",
    "GROUP BY\n",
    "    store_id\n",
    "ORDER BY \n",
    "    Valor_Total DESC\n",
    "LIMIT 5\n",
    "\"\"\"\n",
    "\n",
    "resultado = sqldf(query)\n"
   ]
  },
  {
   "cell_type": "code",
   "execution_count": 74,
   "id": "4047f081-c291-4fb5-961d-1a1553d42bbd",
   "metadata": {},
   "outputs": [
    {
     "data": {
      "text/html": [
       "<div>\n",
       "<style scoped>\n",
       "    .dataframe tbody tr th:only-of-type {\n",
       "        vertical-align: middle;\n",
       "    }\n",
       "\n",
       "    .dataframe tbody tr th {\n",
       "        vertical-align: top;\n",
       "    }\n",
       "\n",
       "    .dataframe thead th {\n",
       "        text-align: right;\n",
       "    }\n",
       "</style>\n",
       "<table border=\"1\" class=\"dataframe\">\n",
       "  <thead>\n",
       "    <tr style=\"text-align: right;\">\n",
       "      <th></th>\n",
       "      <th>store_id</th>\n",
       "      <th>Valor_Total</th>\n",
       "      <th>order_status</th>\n",
       "    </tr>\n",
       "  </thead>\n",
       "  <tbody>\n",
       "    <tr>\n",
       "      <th>0</th>\n",
       "      <td>603</td>\n",
       "      <td>1788306.11</td>\n",
       "      <td>CANCELED</td>\n",
       "    </tr>\n",
       "    <tr>\n",
       "      <th>1</th>\n",
       "      <td>1300</td>\n",
       "      <td>100000.11</td>\n",
       "      <td>FINISHED</td>\n",
       "    </tr>\n",
       "    <tr>\n",
       "      <th>2</th>\n",
       "      <td>923</td>\n",
       "      <td>25000.00</td>\n",
       "      <td>FINISHED</td>\n",
       "    </tr>\n",
       "    <tr>\n",
       "      <th>3</th>\n",
       "      <td>658</td>\n",
       "      <td>19320.00</td>\n",
       "      <td>CANCELED</td>\n",
       "    </tr>\n",
       "    <tr>\n",
       "      <th>4</th>\n",
       "      <td>921</td>\n",
       "      <td>17609.00</td>\n",
       "      <td>CANCELED</td>\n",
       "    </tr>\n",
       "  </tbody>\n",
       "</table>\n",
       "</div>"
      ],
      "text/plain": [
       "   store_id  Valor_Total order_status\n",
       "0       603   1788306.11     CANCELED\n",
       "1      1300    100000.11     FINISHED\n",
       "2       923     25000.00     FINISHED\n",
       "3       658     19320.00     CANCELED\n",
       "4       921     17609.00     CANCELED"
      ]
     },
     "execution_count": 74,
     "metadata": {},
     "output_type": "execute_result"
    }
   ],
   "source": [
    "resultado # Esses resultados parecem estranhos, um pedido de mais de 1 MI provavelmente é algum erro, tanto que foi cancelado. \n",
    "# Os outros valores também estão muito destoantes do razoável"
   ]
  },
  {
   "cell_type": "code",
   "execution_count": 76,
   "id": "bd37e4e6-1724-4bb5-8139-33f78af00d2f",
   "metadata": {},
   "outputs": [],
   "source": [
    "query = \"\"\"\n",
    "SELECT\n",
    "    order_amount\n",
    "FROM \n",
    "    df_pedidos\n",
    "\"\"\"\n",
    "\n",
    "resultado = sqldf(query)\n"
   ]
  },
  {
   "cell_type": "code",
   "execution_count": 77,
   "id": "35e8c4ec-5f8c-4979-b252-3fd8aab2481f",
   "metadata": {},
   "outputs": [
    {
     "data": {
      "image/png": "[encoded data removed]",
      "text/plain": [
       "<Figure size 640x480 with 1 Axes>"
      ]
     },
     "metadata": {},
     "output_type": "display_data"
    }
   ],
   "source": [
    "resultado.plot.box();"
   ]
  },
  {
   "cell_type": "code",
   "execution_count": 87,
   "id": "0b620ea4-673b-453b-85ee-808fcb0e2174",
   "metadata": {},
   "outputs": [
    {
     "data": {
      "text/plain": [
       "order_amount    1500.0\n",
       "Name: 0.999, dtype: float64"
      ]
     },
     "execution_count": 87,
     "metadata": {},
     "output_type": "execute_result"
    }
   ],
   "source": [
    "resultado.quantile(.99) #Vemos aqui que 99% dos pedidos se encontram abaixo do valor R$ 472,85. \n",
    "# Assim, vamos trabalhar com uma base reduzida, apenas mantendo os valores de pedido abaixo de R$ 500,00."
   ]
  },
  {
   "cell_type": "code",
   "execution_count": 81,
   "id": "fa8fef1d-bbfd-4e1f-b382-bbe5a79b95d8",
   "metadata": {},
   "outputs": [],
   "source": [
    "query = \"\"\"\n",
    "SELECT\n",
    "    *\n",
    "FROM \n",
    "    df_pedidos\n",
    "WHERE\n",
    "    order_amount < 500\n",
    "\"\"\"\n",
    "\n",
    "df_pedidos_reduzida = sqldf(query)"
   ]
  },
  {
   "cell_type": "code",
   "execution_count": 86,
   "id": "b0a1a06a-de16-4c69-a75c-e93b83de0764",
   "metadata": {},
   "outputs": [
    {
     "data": {
      "text/plain": [
       "<Axes: >"
      ]
     },
     "execution_count": 86,
     "metadata": {},
     "output_type": "execute_result"
    },
    {
     "data": {
      "image/png": "[encoded data removed]",
      "text/plain": [
       "<Figure size 640x480 with 1 Axes>"
      ]
     },
     "metadata": {},
     "output_type": "display_data"
    }
   ],
   "source": [
    "df_pedidos_reduzida.order_amount.hist()"
   ]
  }
 ],
 "metadata": {
  "kernelspec": {
   "display_name": "Python 3 (ipykernel)",
   "language": "python",
   "name": "python3"
  },
  "language_info": {
   "codemirror_mode": {
    "name": "ipython",
    "version": 3
   },
   "file_extension": ".py",
   "mimetype": "text/x-python",
   "name": "python",
   "nbconvert_exporter": "python",
   "pygments_lexer": "ipython3",
   "version": "3.11.7"
  }
 },
 "nbformat": 4,
 "nbformat_minor": 5
}
